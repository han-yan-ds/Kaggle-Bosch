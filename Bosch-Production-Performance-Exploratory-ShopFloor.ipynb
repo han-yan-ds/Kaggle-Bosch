{
 "cells": [
  {
   "cell_type": "markdown",
   "metadata": {},
   "source": [
    "# This project examines patterns in manufacturing defects\n",
    "\n",
    "Data is provided by Bosch"
   ]
  },
  {
   "cell_type": "markdown",
   "metadata": {},
   "source": [
    "## Import and examine the data"
   ]
  },
  {
   "cell_type": "code",
   "execution_count": 2,
   "metadata": {},
   "outputs": [],
   "source": [
    "import numpy as np\n",
    "import pandas as pd\n",
    "import matplotlib.pyplot as plt\n",
    "import seaborn as sns\n",
    "import time\n",
    "\n",
    "tic = time.process_time()"
   ]
  },
  {
   "cell_type": "code",
   "execution_count": 3,
   "metadata": {},
   "outputs": [],
   "source": [
    "folder = 'Bosch-Production-Line-Performance/'\n",
    "batch_size = 10000"
   ]
  },
  {
   "cell_type": "code",
   "execution_count": 4,
   "metadata": {},
   "outputs": [
    {
     "name": "stderr",
     "output_type": "stream",
     "text": [
      "<string>:2: DtypeWarning: Columns (1,2,3,4,5,6,7,8,9,10,11,12,13,14,15,16,17,18,19,20,21,22,41,42,43,57,59,60,62,63,65,66,68,69,71,72,74,75,77,78,80,81,83,84,86,87,89,90,92,93,95,96,97,98,99,100,101,102,103,104,105,106,107,108,109,110,111,112,113,114,115,116,117,118,119,120,121,122,123,124,125,126,127,128,129,130,131,132,133,134,188,189,190,191,192,193,204,205,206,207,208,209,210,211,212,213,214,215,216,217,218,219,220,221,222,223,224,225,226,227,228,229,230,231,232,233,234,235,236,237,238,239,240,241,242,243,244,245,246,247,248,249,250,251,252,253,254,255,256,257,258,259,260,261,262,263,264,265,266,267,268,269,270,271,272,273,274,275,276,277,278,279,280,281,282,283,284,285,286,287,288,289,290,291,292,293,335,406,407,408,409,410,411,412,413,414,415,416,417,418,419,420,421,422,423,424,425,426,427,428,429,430,431,432,433,434,435,436,437,438,439,440,441,442,443,444,445,446,447,448,449,450,451,452,453,454,455,456,457,458,459,460,461,462,464,467,470,473,476,479,482,485,488,491,494,497,500,503,506,509,512,515,518,611,614,617,620,623,626,629,632,635,638,641,644,647,650,653,656,659,662,665,668,671,674,677,680,683,686,689,692,695,698,701,704,707,710,713,716,719,722,900,903,906,909,912,915,918,921,924,927,930,933,936,939,942,945,948,951,954,984,1005,1006,1007,1008,1009,1010,1011,1012,1013,1014,1015,1016,1017,1018,1019,1020,1021,1022,1023,1024,1025,1026,1027,1028,1029,1030,1031,1032,1033,1034,1035,1036,1037,1038,1039,1040,1041,1042,1043,1044,1045,1046,1047,1048,1049,1050,1051,1052,1054,1057,1060,1063,1066,1069,1072,1075,1078,1081,1084,1087,1090,1093,1096,1099,1126,1129,1132,1135,1138,1141,1144,1147,1151,1183,1185,1188,1191,1194,1197,1200,1203,1206,1209,1212,1215,1218,1221,1224,1227,1230,1233,1236,1239,1242,1245,1248,1251,1254,1257,1260,1263,1266,1269,1272,1275,1278,1288,1298,1300,1303,1306,1309,1312,1315,1318,1321,1324,1327,1330,1333,1336,1339,1342,1345,1348,1351,1354,1357,1360,1363,1366,1369,1372,1375,1378,1381,1384,1387,1390,1393,1419,1420,1421,1422,1423,1424,1425,1426,1427,1428,1429,1431,1434,1437,1440,1443,1446,1449,1452,1455,1458,1461,1464,1467,1470,1473,1476,1479,1482,1485,1488,1491,1494,1497,1500,1503,1506,1509,1512,1515,1518,1521,1524,1527,1530,1533,1536,1539,1542,1545,1548,1550,1657,1659,1661,1663,1665,1667,1669,1671,1673,1675,1677,1679,1681,1683,1685,1687,1689,1691,1693,1694,1696,1698,1700,1702,1704,1706,1708,1985,1987,2052,2054,2055,2057,2058,2060,2061,2063,2064,2066,2067,2069,2070,2072,2073,2075,2076,2077,2078,2079,2080,2081,2082,2083) have mixed types. Specify dtype option on import or set low_memory=False.\n"
     ]
    },
    {
     "name": "stdout",
     "output_type": "stream",
     "text": [
      "CPU times: user 4.93 s, sys: 192 ms, total: 5.13 s\n",
      "Wall time: 5.13 s\n"
     ]
    }
   ],
   "source": [
    "%%time\n",
    "# reading only first 10000 rows because of file size and memory limitations\n",
    "\n",
    "train_categorical_sample = pd.read_csv(folder+'train_categorical.csv', nrows=batch_size)\n",
    "train_numeric_sample = pd.read_csv(folder+'train_numeric.csv', nrows=batch_size)\n",
    "train_date_sample = pd.read_csv(folder+'train_date.csv', nrows=batch_size)"
   ]
  },
  {
   "cell_type": "markdown",
   "metadata": {},
   "source": [
    "## Let's try to create a visualization of start and end for shopfloor"
   ]
  },
  {
   "cell_type": "markdown",
   "metadata": {},
   "source": [
    "#### Question: Are Line #s and Station #s exclusive?  Or do there exist Station X for both Line A and B?"
   ]
  },
  {
   "cell_type": "code",
   "execution_count": 5,
   "metadata": {},
   "outputs": [],
   "source": [
    "def extractLSF(string, isDate=False):\n",
    "    '''\n",
    "    Given a string in the Bosch Line/Station/Feature format (eg: L0_S0_F26), extract the Line number, Station number, and Feature number\n",
    "    \n",
    "    Input: String in Lx_Sy_Fz format\n",
    "    \n",
    "    Output:  Tuple of (x, y, z)\n",
    "    \n",
    "    Sidenote:  isDate will extract based on Lx_Sy_Dd format instead, returns tuple of (x, y, d)\n",
    "    '''\n",
    "    # first assert the format is correct:\n",
    "    splitStr = string.split('_')\n",
    "    if isDate:\n",
    "        prefixList = ['L', 'S', 'D']\n",
    "    else:\n",
    "        prefixList = ['L', 'S', 'F']\n",
    "        \n",
    "    assert len(splitStr) == 3, 'Not 3 substrings split by \"_\"s!'\n",
    "    for i in range(0, len(splitStr)):\n",
    "        assert splitStr[i][1:].isnumeric(), 'Not numeric following the single-letter prefix!'\n",
    "        assert splitStr[i][:1] == prefixList[i], 'Not the proper single-letter prefixes!  Did you use a Date format and forget to set isDate=True?'\n",
    "    \n",
    "    #now extract numbers:\n",
    "    tempList = []\n",
    "    \n",
    "    for substr in splitStr:\n",
    "        number = float(substr[1:])\n",
    "        if number%1 == 0.0:\n",
    "            tempList.append(int(number))\n",
    "        else:\n",
    "            tempList.append(number)\n",
    "        \n",
    "    return tuple(tempList)"
   ]
  },
  {
   "cell_type": "code",
   "execution_count": 6,
   "metadata": {},
   "outputs": [],
   "source": [
    "def getListLSF(inputSeries, isDate=False):\n",
    "    '''\n",
    "    Given a series with fields of Bosch style Lx_Sy_Fz: Get the lines, stations, and features (or dates)\n",
    "    Input:  series (row) in a Bosch-style QC matrix\n",
    "    Output:  pandas dataframe of lines, stations, and features/dates\n",
    "    '''\n",
    "    \n",
    "    for field in inputSeries.index:\n",
    "        try:\n",
    "            myL, myS, myF = extractLSF(field, isDate=isDate)\n",
    "        except:\n",
    "            continue\n",
    "        listL.append(myL)\n",
    "        listS.append(myS)\n",
    "        listF.append(myF)\n",
    "    \n",
    "    return {'Lines': listL, 'Stations': listS, 'Features': listF}"
   ]
  },
  {
   "cell_type": "code",
   "execution_count": 7,
   "metadata": {},
   "outputs": [],
   "source": [
    "def getListLSD(inputSeries):\n",
    "    return getListLSF(inputSeries, isDate=True)"
   ]
  },
  {
   "cell_type": "code",
   "execution_count": 8,
   "metadata": {},
   "outputs": [],
   "source": [
    "# All L/S/Fs\n",
    "\n",
    "def get_lsf(lsf_df, isDate=False):\n",
    "    '''From a Bosch DF, extract all the Line/Station/Feature combinations in the fields\n",
    "    Outputs a Dataframe of columns Line, Station, Feature'''\n",
    "    if isDate:\n",
    "        lsf = pd.DataFrame(columns=['Line', 'Station', 'Date'])\n",
    "    else:\n",
    "        lsf = pd.DataFrame(columns=['Line', 'Station', 'Feature'])\n",
    "    \n",
    "    for field in lsf_df.columns:\n",
    "        try:\n",
    "            lsf = lsf.append(pd.DataFrame([list(extractLSF(field, isDate))], columns=lsf.columns))\n",
    "        except:\n",
    "            continue\n",
    "    \n",
    "    return lsf\n",
    "\n",
    "# ----------------------------------------------------\n",
    "\n",
    "cat_lsf = get_lsf(train_categorical_sample)\n",
    "num_lsf = get_lsf(train_numeric_sample)\n",
    "date_lsd = get_lsf(train_date_sample, isDate=True)"
   ]
  },
  {
   "cell_type": "code",
   "execution_count": 9,
   "metadata": {},
   "outputs": [],
   "source": [
    "all_lsf = pd.concat([cat_lsf, num_lsf])"
   ]
  },
  {
   "cell_type": "code",
   "execution_count": 10,
   "metadata": {},
   "outputs": [
    {
     "name": "stdout",
     "output_type": "stream",
     "text": [
      "      Station  Feature\n",
      "Line                  \n",
      "0           0        0\n",
      "1          24      675\n",
      "2          26     3036\n",
      "3          29     3315\n",
      "      Station  Feature\n",
      "Line                  \n",
      "0          23      674\n",
      "1          25     3034\n",
      "2          28     3314\n",
      "3          51     4262\n"
     ]
    }
   ],
   "source": [
    "print(all_lsf.groupby('Line').min())\n",
    "print(all_lsf.groupby('Line').max())"
   ]
  },
  {
   "cell_type": "markdown",
   "metadata": {},
   "source": [
    "#### It does look like the Line #s and Station #s are exclusive!\n",
    "\n",
    "Looks like:\n",
    "\n",
    "0. Line 0 encompasses Station 0 through 23\n",
    "1. Line 1 encompasses Station 24 through 25\n",
    "2. Line 2 encompasses Station 26 through 28\n",
    "3. Line 3 encompasses Station 29 through 51\n",
    "\n",
    "**We'll see in the test below that Line & Features, Station & Features, Line & Date, and Station & Date are ALL exclusive!!!**"
   ]
  },
  {
   "cell_type": "code",
   "execution_count": 11,
   "metadata": {},
   "outputs": [],
   "source": [
    "def testLSFexclusive(data, groupbyfield, exclusivefield):\n",
    "    '''Tests if the exclusiveField (eg: Stations) are exclusive to groupbyField (eg: Lines)\n",
    "    Does this by ensuring there's no overlap in the min/max ranges'''\n",
    "    mins = data.groupby(groupbyfield).min()[exclusivefield]\n",
    "    maxs = data.groupby(groupbyfield).max()[exclusivefield]\n",
    "    \n",
    "    bool1 = mins[0] == mins.min()\n",
    "    bool2 = maxs[-1:].iloc[0] == maxs.max()\n",
    "    bool3 = True\n",
    "    \n",
    "    for i in range(0, mins.size-1):\n",
    "        if maxs[i] >= mins[i+1]: #careful i is last one\n",
    "            bool3 = False\n",
    "    \n",
    "    return bool1*bool2*bool3"
   ]
  },
  {
   "cell_type": "code",
   "execution_count": 12,
   "metadata": {},
   "outputs": [
    {
     "name": "stdout",
     "output_type": "stream",
     "text": [
      "True\n",
      "True\n",
      "True\n",
      "True\n"
     ]
    }
   ],
   "source": [
    "print( testLSFexclusive(all_lsf, 'Line', 'Feature') )\n",
    "print( testLSFexclusive(all_lsf, 'Station', 'Feature') )\n",
    "print( testLSFexclusive(date_lsd, 'Line', 'Date') )\n",
    "print( testLSFexclusive(date_lsd, 'Station', 'Date') )"
   ]
  },
  {
   "cell_type": "markdown",
   "metadata": {},
   "source": [
    "## Now we can produce a shop floor picture because we know that lines, stations, features, and dates don't overlap across each other!"
   ]
  },
  {
   "cell_type": "code",
   "execution_count": 13,
   "metadata": {},
   "outputs": [],
   "source": [
    "# station_line_assignment is a Dictionary of Stations with their respective Lines\n",
    "\n",
    "station_line_assignment = all_lsf.groupby('Station').min().drop('Feature', axis=1)\n",
    "\n",
    "tempdict = {-1:-1} #assign Start station as a Start type\n",
    "for i in station_line_assignment.index:\n",
    "    tempdict[i] = station_line_assignment.loc[i][0]\n",
    "tempdict[99] = 99 #assign Pass result station as Result Line\n",
    "tempdict[100] = 100 #assign Fail result station as Result Line\n",
    "\n",
    "station_line_assignment = tempdict"
   ]
  },
  {
   "cell_type": "code",
   "execution_count": 14,
   "metadata": {},
   "outputs": [],
   "source": [
    "# Creating color codes for Nodes:  Different Lines, Outputs, and Starting Point all have different colors:\n",
    "\n",
    "#-1=start, 999999=Result, everything else=Line#\n",
    "\n",
    "nodeColorDict = {0:'blue', 1:'red', 2:'green', 3:'orange', -1:'gold', 99:'purple', 100:'purple'}"
   ]
  },
  {
   "cell_type": "markdown",
   "metadata": {},
   "source": [
    "#### Creating arguments to feed in Network.add_nodes"
   ]
  },
  {
   "cell_type": "code",
   "execution_count": 15,
   "metadata": {},
   "outputs": [],
   "source": [
    "nodesList = list(station_line_assignment.keys())\n",
    "nodesLabelList = ['S{}'.format(station) for station in nodesList]\n",
    "#nodesSizeList = # <--- temporary, I will create this list in few lines of code down\n",
    "nodesColorList = [nodeColorDict[station_line_assignment[station]] for station in nodesList]"
   ]
  },
  {
   "cell_type": "code",
   "execution_count": 16,
   "metadata": {},
   "outputs": [],
   "source": [
    "# create new dataframe to ready to get all connections\n",
    "# this dataframe shows stations only in the Field Names... stations are the only thing I need for connections\n",
    "\n",
    "dateColsStationOnly = ['Id']\n",
    "dateColsStationOnly.extend((list(date_lsd['Station'])))\n",
    "\n",
    "train_date_sample_stationcols = train_date_sample.copy()\n",
    "train_date_sample_stationcols.columns = dateColsStationOnly"
   ]
  },
  {
   "cell_type": "code",
   "execution_count": 17,
   "metadata": {},
   "outputs": [
    {
     "name": "stdout",
     "output_type": "stream",
     "text": [
      "24 0.8799999999999955\n",
      "25 19.850000000000136\n",
      "42 nan\n"
     ]
    }
   ],
   "source": [
    "# it seems like there's duplicate station fields.  But they all have the same values... or do they?\n",
    "\n",
    "for stationNum in train_date_sample_stationcols.columns.unique().drop('Id'):\n",
    "    if len(train_date_sample_stationcols[stationNum].shape)==1:\n",
    "        continue\n",
    "    diff = (train_date_sample_stationcols[stationNum].max(axis=1)-train_date_sample_stationcols[stationNum].min(axis=1)).max()\n",
    "    if round(diff, 5) != 0:\n",
    "        print(stationNum, diff)\n",
    "        \n",
    "# Results:\n",
    "\n",
    "    # Station 24 has 288 different Features (it's a big station), so there was probably a lot of time taken here\n",
    "    # Station 25 has 333 different Features (it's a big station), so there was probably a lot of time taken here as well\n",
    "    # Station 42 has no operations taken here (out of the first 10000 samples), so we have an NaN value"
   ]
  },
  {
   "cell_type": "code",
   "execution_count": 18,
   "metadata": {},
   "outputs": [],
   "source": [
    "# so now we know we can consolidate the station fields into 1, let's do that, and create a new DataFrame:\n",
    "\n",
    "df = pd.DataFrame(columns=train_date_sample_stationcols.columns.unique())\n",
    "df['Id'] = train_date_sample_stationcols['Id']\n",
    "\n",
    "for stationNum in df.drop('Id', axis=1):\n",
    "    if len(train_date_sample_stationcols[stationNum].shape)==1: #if only 1 column\n",
    "        df[stationNum] = train_date_sample_stationcols[stationNum]\n",
    "        continue\n",
    "    df[stationNum] = train_date_sample_stationcols[stationNum].mean(axis=1)\n",
    "    \n",
    "\n",
    "train_date_sample_stationcols_unique = df"
   ]
  },
  {
   "cell_type": "code",
   "execution_count": 19,
   "metadata": {},
   "outputs": [],
   "source": [
    "# append 'Response' to the back\n",
    "\n",
    "train_date_sample_stationcols_unique[99] = train_numeric_sample['Response'].apply(lambda x: 999999 if x==0 else np.nan)\n",
    "train_date_sample_stationcols_unique[100] = train_numeric_sample['Response'].apply(lambda x: 999999 if x==1 else np.nan)"
   ]
  },
  {
   "cell_type": "code",
   "execution_count": 20,
   "metadata": {},
   "outputs": [
    {
     "data": {
      "text/html": [
       "<div>\n",
       "<style scoped>\n",
       "    .dataframe tbody tr th:only-of-type {\n",
       "        vertical-align: middle;\n",
       "    }\n",
       "\n",
       "    .dataframe tbody tr th {\n",
       "        vertical-align: top;\n",
       "    }\n",
       "\n",
       "    .dataframe thead th {\n",
       "        text-align: right;\n",
       "    }\n",
       "</style>\n",
       "<table border=\"1\" class=\"dataframe\">\n",
       "  <thead>\n",
       "    <tr style=\"text-align: right;\">\n",
       "      <th></th>\n",
       "      <th>Id</th>\n",
       "      <th>0</th>\n",
       "      <th>1</th>\n",
       "      <th>2</th>\n",
       "      <th>3</th>\n",
       "      <th>4</th>\n",
       "      <th>5</th>\n",
       "      <th>6</th>\n",
       "      <th>7</th>\n",
       "      <th>8</th>\n",
       "      <th>...</th>\n",
       "      <th>44</th>\n",
       "      <th>45</th>\n",
       "      <th>46</th>\n",
       "      <th>47</th>\n",
       "      <th>48</th>\n",
       "      <th>49</th>\n",
       "      <th>50</th>\n",
       "      <th>51</th>\n",
       "      <th>99</th>\n",
       "      <th>100</th>\n",
       "    </tr>\n",
       "  </thead>\n",
       "  <tbody>\n",
       "    <tr>\n",
       "      <th>9995</th>\n",
       "      <td>19912</td>\n",
       "      <td>NaN</td>\n",
       "      <td>NaN</td>\n",
       "      <td>NaN</td>\n",
       "      <td>NaN</td>\n",
       "      <td>NaN</td>\n",
       "      <td>NaN</td>\n",
       "      <td>NaN</td>\n",
       "      <td>NaN</td>\n",
       "      <td>NaN</td>\n",
       "      <td>...</td>\n",
       "      <td>NaN</td>\n",
       "      <td>NaN</td>\n",
       "      <td>NaN</td>\n",
       "      <td>NaN</td>\n",
       "      <td>NaN</td>\n",
       "      <td>NaN</td>\n",
       "      <td>NaN</td>\n",
       "      <td>NaN</td>\n",
       "      <td>999999.0</td>\n",
       "      <td>NaN</td>\n",
       "    </tr>\n",
       "    <tr>\n",
       "      <th>9996</th>\n",
       "      <td>19915</td>\n",
       "      <td>904.17</td>\n",
       "      <td>904.17</td>\n",
       "      <td>NaN</td>\n",
       "      <td>904.18</td>\n",
       "      <td>NaN</td>\n",
       "      <td>904.19</td>\n",
       "      <td>NaN</td>\n",
       "      <td>904.20</td>\n",
       "      <td>904.20</td>\n",
       "      <td>...</td>\n",
       "      <td>NaN</td>\n",
       "      <td>NaN</td>\n",
       "      <td>NaN</td>\n",
       "      <td>NaN</td>\n",
       "      <td>NaN</td>\n",
       "      <td>NaN</td>\n",
       "      <td>NaN</td>\n",
       "      <td>NaN</td>\n",
       "      <td>999999.0</td>\n",
       "      <td>NaN</td>\n",
       "    </tr>\n",
       "    <tr>\n",
       "      <th>9997</th>\n",
       "      <td>19917</td>\n",
       "      <td>640.60</td>\n",
       "      <td>640.60</td>\n",
       "      <td>640.6</td>\n",
       "      <td>NaN</td>\n",
       "      <td>NaN</td>\n",
       "      <td>640.61</td>\n",
       "      <td>NaN</td>\n",
       "      <td>640.62</td>\n",
       "      <td>640.62</td>\n",
       "      <td>...</td>\n",
       "      <td>NaN</td>\n",
       "      <td>NaN</td>\n",
       "      <td>NaN</td>\n",
       "      <td>NaN</td>\n",
       "      <td>NaN</td>\n",
       "      <td>NaN</td>\n",
       "      <td>NaN</td>\n",
       "      <td>NaN</td>\n",
       "      <td>999999.0</td>\n",
       "      <td>NaN</td>\n",
       "    </tr>\n",
       "    <tr>\n",
       "      <th>9998</th>\n",
       "      <td>19921</td>\n",
       "      <td>NaN</td>\n",
       "      <td>NaN</td>\n",
       "      <td>NaN</td>\n",
       "      <td>NaN</td>\n",
       "      <td>NaN</td>\n",
       "      <td>NaN</td>\n",
       "      <td>NaN</td>\n",
       "      <td>NaN</td>\n",
       "      <td>NaN</td>\n",
       "      <td>...</td>\n",
       "      <td>NaN</td>\n",
       "      <td>NaN</td>\n",
       "      <td>NaN</td>\n",
       "      <td>NaN</td>\n",
       "      <td>NaN</td>\n",
       "      <td>NaN</td>\n",
       "      <td>NaN</td>\n",
       "      <td>NaN</td>\n",
       "      <td>999999.0</td>\n",
       "      <td>NaN</td>\n",
       "    </tr>\n",
       "    <tr>\n",
       "      <th>9999</th>\n",
       "      <td>19923</td>\n",
       "      <td>1379.75</td>\n",
       "      <td>1379.75</td>\n",
       "      <td>NaN</td>\n",
       "      <td>1379.75</td>\n",
       "      <td>1379.77</td>\n",
       "      <td>NaN</td>\n",
       "      <td>1379.77</td>\n",
       "      <td>NaN</td>\n",
       "      <td>1379.78</td>\n",
       "      <td>...</td>\n",
       "      <td>1380.49</td>\n",
       "      <td>1380.58</td>\n",
       "      <td>NaN</td>\n",
       "      <td>1380.59</td>\n",
       "      <td>1380.59</td>\n",
       "      <td>1380.59</td>\n",
       "      <td>NaN</td>\n",
       "      <td>1380.59</td>\n",
       "      <td>999999.0</td>\n",
       "      <td>NaN</td>\n",
       "    </tr>\n",
       "  </tbody>\n",
       "</table>\n",
       "<p>5 rows × 55 columns</p>\n",
       "</div>"
      ],
      "text/plain": [
       "         Id        0        1      2        3        4       5        6  \\\n",
       "9995  19912      NaN      NaN    NaN      NaN      NaN     NaN      NaN   \n",
       "9996  19915   904.17   904.17    NaN   904.18      NaN  904.19      NaN   \n",
       "9997  19917   640.60   640.60  640.6      NaN      NaN  640.61      NaN   \n",
       "9998  19921      NaN      NaN    NaN      NaN      NaN     NaN      NaN   \n",
       "9999  19923  1379.75  1379.75    NaN  1379.75  1379.77     NaN  1379.77   \n",
       "\n",
       "           7        8  ...       44       45  46       47       48       49  \\\n",
       "9995     NaN      NaN  ...      NaN      NaN NaN      NaN      NaN      NaN   \n",
       "9996  904.20   904.20  ...      NaN      NaN NaN      NaN      NaN      NaN   \n",
       "9997  640.62   640.62  ...      NaN      NaN NaN      NaN      NaN      NaN   \n",
       "9998     NaN      NaN  ...      NaN      NaN NaN      NaN      NaN      NaN   \n",
       "9999     NaN  1379.78  ...  1380.49  1380.58 NaN  1380.59  1380.59  1380.59   \n",
       "\n",
       "      50       51        99  100  \n",
       "9995 NaN      NaN  999999.0  NaN  \n",
       "9996 NaN      NaN  999999.0  NaN  \n",
       "9997 NaN      NaN  999999.0  NaN  \n",
       "9998 NaN      NaN  999999.0  NaN  \n",
       "9999 NaN  1380.59  999999.0  NaN  \n",
       "\n",
       "[5 rows x 55 columns]"
      ]
     },
     "execution_count": 20,
     "metadata": {},
     "output_type": "execute_result"
    }
   ],
   "source": [
    "train_date_sample_stationcols_unique.tail()"
   ]
  },
  {
   "cell_type": "code",
   "execution_count": 21,
   "metadata": {},
   "outputs": [],
   "source": [
    "# Creating a list of sizes, based on how frequently the stations are hit:\n",
    "# nodesSizeList\n",
    "import math\n",
    "\n",
    "def getNodesSizeList(dfStationCols, scalar=1, islog=False):\n",
    "    maximumValue = dfStationCols.shape[0]\n",
    "    if islog:\n",
    "        nodesSizeList = [math.log(dfStationCols[stationNum].dropna().size*scalar/maximumValue+1) \n",
    "                 for stationNum in dfStationCols.columns]\n",
    "    else:\n",
    "        nodesSizeList = [dfStationCols[stationNum].dropna().size*scalar/maximumValue+1 \n",
    "                 for stationNum in dfStationCols.columns]\n",
    "    \n",
    "    return nodesSizeList\n",
    "    \n",
    "#-----------------------------------\n",
    "\n",
    "nodesSizeList = getNodesSizeList(train_date_sample_stationcols_unique, scalar=50000, islog=True)\n",
    "#nodesSizeList = getNodesSizeList(train_date_sample_stationcols_unique, scalar=5, islog=False)"
   ]
  },
  {
   "cell_type": "code",
   "execution_count": 22,
   "metadata": {},
   "outputs": [],
   "source": [
    "# now we create connections, based on train_date_sample_stationcols_unique: we can see sequence of movement between stations:\n",
    "\n",
    "def getConnections(inputSeries):\n",
    "    '''\n",
    "    Get a list of tuples for all connections, starting from -1 (Start), and ending at either 99 (Pass), or 100 (Fail)\n",
    "    \n",
    "    Input:  A Series with a lot of NaNs, and indexes are Station Names (integers)\n",
    "    \n",
    "    Output: A List of Tuples with all connections of Pairs of Adjacent Stations without NaNs\n",
    "    '''\n",
    "    droppedNa = list(inputSeries.dropna().drop('Id').index)\n",
    "    listOfConnections = [(-1,droppedNa[0])]\n",
    "    for i in range(0, len(droppedNa)-1):\n",
    "        listOfConnections.append((droppedNa[i],droppedNa[i+1]))\n",
    "    return listOfConnections    \n",
    "\n",
    "\n",
    "def flattenConnectionsSeries(connectionsSeries):\n",
    "    mylist = []\n",
    "    for item in connectionsSeries:\n",
    "        mylist.extend(item)\n",
    "    return mylist"
   ]
  },
  {
   "cell_type": "code",
   "execution_count": 23,
   "metadata": {},
   "outputs": [],
   "source": [
    "# Connection Frequency will list all the connections and their corresponding (not-normalized) frequencies\n",
    "# Not too important yet... below will be the Normalized version which is VERY important\n",
    "\n",
    "allConnections = train_date_sample_stationcols_unique.apply(getConnections, axis=1)\n",
    "allConnections = flattenConnectionsSeries(allConnections)\n",
    "\n",
    "from collections import Counter\n",
    "connectionFrequency = Counter(allConnections)\n",
    "\n",
    "#connectionFrequency"
   ]
  },
  {
   "cell_type": "code",
   "execution_count": 24,
   "metadata": {},
   "outputs": [],
   "source": [
    "import math\n",
    "\n",
    "def normalizeFrequencyDict(frequencyDict, scalar=1, islog=False):\n",
    "    maximumValue = max(frequencyDict.values())\n",
    "    newDict = {}\n",
    "    \n",
    "    for key in frequencyDict:\n",
    "        if islog:\n",
    "            newDict[key] = math.log(frequencyDict[key]*scalar/maximumValue)\n",
    "        else:\n",
    "            newDict[key] = frequencyDict[key]*scalar/maximumValue\n",
    "    \n",
    "    return newDict \n",
    "\n",
    "\n",
    "def convertFrequencyDictToFrequencyList(frequencyDict):\n",
    "    return [(key[0], key[1], frequencyDict[key]) for key in frequencyDict.keys()]"
   ]
  },
  {
   "cell_type": "markdown",
   "metadata": {},
   "source": [
    "#### Creating arguments to feed in Network.add_edges (incl. thickness)"
   ]
  },
  {
   "cell_type": "code",
   "execution_count": 25,
   "metadata": {},
   "outputs": [],
   "source": [
    "# Normalized connection frequency\n",
    "# EXTREMELY IMPORTANT - this is what the nodes-edges will be for the node graph\n",
    "\n",
    "normConnectionFrequency = normalizeFrequencyDict(connectionFrequency, scalar=100, islog=True)\n",
    "\n",
    "nodesEdgeList = convertFrequencyDictToFrequencyList(normConnectionFrequency)"
   ]
  },
  {
   "cell_type": "markdown",
   "metadata": {},
   "source": [
    "## Now let's graph this Shop Layout!"
   ]
  },
  {
   "cell_type": "code",
   "execution_count": 26,
   "metadata": {},
   "outputs": [],
   "source": [
    "from pyvis import network as net\n",
    "import networkx as nx #for graphing nodes\n",
    "\n",
    "g = net.Network(height='1800px', width='1200px', notebook=False, layout=0) #creating node graph object\n",
    "\n",
    "g.add_nodes(nodesList, \n",
    "            label=nodesLabelList, \n",
    "            color=nodesColorList,\n",
    "           size=nodesSizeList) #creating nodes\n",
    "\n",
    "#nodesEdgeList.sort()\n",
    "\n",
    "g.add_edges(nodesEdgeList) #creating edges (thickness is the 3rd optional argument)\n",
    "\n",
    "g.show_buttons(filter_=['physics'])\n",
    "\n",
    "g.show('mygraph.html') #generating the graph and showing it"
   ]
  },
  {
   "cell_type": "code",
   "execution_count": null,
   "metadata": {},
   "outputs": [],
   "source": []
  },
  {
   "cell_type": "code",
   "execution_count": null,
   "metadata": {},
   "outputs": [],
   "source": []
  },
  {
   "cell_type": "code",
   "execution_count": null,
   "metadata": {},
   "outputs": [],
   "source": []
  },
  {
   "cell_type": "code",
   "execution_count": null,
   "metadata": {},
   "outputs": [],
   "source": []
  },
  {
   "cell_type": "code",
   "execution_count": null,
   "metadata": {},
   "outputs": [],
   "source": []
  },
  {
   "cell_type": "code",
   "execution_count": null,
   "metadata": {},
   "outputs": [],
   "source": []
  },
  {
   "cell_type": "markdown",
   "metadata": {},
   "source": [
    "# Testing below"
   ]
  },
  {
   "cell_type": "code",
   "execution_count": 90,
   "metadata": {},
   "outputs": [
    {
     "data": {
      "text/plain": [
       "pandas.core.series.Series"
      ]
     },
     "execution_count": 90,
     "metadata": {},
     "output_type": "execute_result"
    }
   ],
   "source": [
    "type(train_date_sample_stationcols_unique.iloc[0])"
   ]
  },
  {
   "cell_type": "code",
   "execution_count": 91,
   "metadata": {},
   "outputs": [
    {
     "data": {
      "text/plain": [
       "[0, 1, 2, 4, 7, 8, 11, 29, 30, 31, 33, 34, 35, 37, 99]"
      ]
     },
     "execution_count": 91,
     "metadata": {},
     "output_type": "execute_result"
    }
   ],
   "source": [
    "list(train_date_sample_stationcols_unique.iloc[0].dropna().drop('Id').index)"
   ]
  },
  {
   "cell_type": "code",
   "execution_count": 92,
   "metadata": {},
   "outputs": [
    {
     "data": {
      "text/plain": [
       "[(-1, 0),\n",
       " (0, 1),\n",
       " (1, 2),\n",
       " (2, 4),\n",
       " (4, 7),\n",
       " (7, 8),\n",
       " (8, 11),\n",
       " (11, 29),\n",
       " (29, 30),\n",
       " (30, 31),\n",
       " (31, 33),\n",
       " (33, 34),\n",
       " (34, 35),\n",
       " (35, 37),\n",
       " (37, 99)]"
      ]
     },
     "execution_count": 92,
     "metadata": {},
     "output_type": "execute_result"
    }
   ],
   "source": [
    "getConnections(train_date_sample_stationcols_unique.iloc[0])"
   ]
  },
  {
   "cell_type": "code",
   "execution_count": null,
   "metadata": {},
   "outputs": [],
   "source": []
  },
  {
   "cell_type": "code",
   "execution_count": null,
   "metadata": {},
   "outputs": [],
   "source": []
  },
  {
   "cell_type": "code",
   "execution_count": null,
   "metadata": {},
   "outputs": [],
   "source": []
  },
  {
   "cell_type": "code",
   "execution_count": 41,
   "metadata": {},
   "outputs": [
    {
     "data": {
      "text/html": [
       "\n",
       "        <iframe\n",
       "            width=\"100%\"\n",
       "            height=\"500px\"\n",
       "            src=\"mygraph.html\"\n",
       "            frameborder=\"0\"\n",
       "            allowfullscreen\n",
       "        ></iframe>\n",
       "        "
      ],
      "text/plain": [
       "<IPython.lib.display.IFrame at 0x7fbcc28ebb00>"
      ]
     },
     "execution_count": 41,
     "metadata": {},
     "output_type": "execute_result"
    }
   ],
   "source": [
    "#reference for creating node graph:\n",
    "\n",
    "g = net.Network(height='500px', width='100%', notebook=True, layout=0) #creating node graph object\n",
    "\n",
    "g.add_nodes([35, 56, 79, 100]) #creating nodes\n",
    "\n",
    "g.add_edges([(35,56), (56,79), (35,79,10)]) #creating edges (thickness is the 3rd optional argument)\n",
    "\n",
    "g.show('mygraph.html') #generating the graph and showing it"
   ]
  },
  {
   "cell_type": "code",
   "execution_count": 43,
   "metadata": {},
   "outputs": [
    {
     "data": {
      "text/plain": [
       "[(-1, 0, 4.105182780589676),\n",
       " (-1, 1, -2.6029013032633936),\n",
       " (-1, 12, 3.0908308355393057),\n",
       " (-1, 24, 2.7624069321009213),\n",
       " (-1, 25, 1.9173332719189122),\n",
       " (-1, 26, -4.548811452318707),\n",
       " (-1, 27, -2.1509161795203364),\n",
       " (-1, 29, -1.3707576219707613),\n",
       " (-1, 38, -3.8556642717587617),\n",
       " (-1, 99, -3.4501991636505975),\n",
       " (0, 1, 4.1039610333393535),\n",
       " (0, 2, -3.1625170911988163),\n",
       " (0, 3, -3.4501991636505975),\n",
       " (1, 2, 3.4045068942417243),\n",
       " (1, 3, 3.4181220460861326),\n",
       " (1, 4, -3.8556642717587617),\n",
       " (1, 5, -3.8556642717587617),\n",
       " (2, 3, -4.548811452318707),\n",
       " (2, 4, 2.706073357758631),\n",
       " (2, 5, 2.718713975509465),\n",
       " (3, 4, 2.688966739604736),\n",
       " (3, 5, 2.7624069321009213),\n",
       " (4, 5, -4.548811452318707),\n",
       " (4, 6, 2.711711145771145),\n",
       " (4, 7, 2.683921683858908),\n",
       " (5, 6, 2.728436274312777),\n",
       " (5, 7, 2.7550317729589975),\n",
       " (6, 8, 3.411163075761829),\n",
       " (6, 10, -4.548811452318707),\n",
       " (6, 11, -2.9393735398846066),\n",
       " (7, 8, 3.41186115606941),\n",
       " (7, 9, -4.548811452318707),\n",
       " (7, 11, -3.4501991636505975),\n",
       " (8, 9, 2.999217517616307),\n",
       " (8, 10, 3.018017026889624),\n",
       " (8, 11, 3.000797712835825),\n",
       " (9, 11, -3.4501991636505975),\n",
       " (9, 12, -3.4501991636505975),\n",
       " (9, 24, -2.9393735398846066),\n",
       " (9, 25, -3.4501991636505975),\n",
       " (9, 26, 0.23868029046333897),\n",
       " (9, 27, 0.29537563413988427),\n",
       " (9, 29, 2.77501911388361),\n",
       " (9, 38, -3.1625170911988163),\n",
       " (9, 39, 0.21336248247904896),\n",
       " (10, 11, -3.4501991636505975),\n",
       " (10, 12, -3.8556642717587617),\n",
       " (10, 24, -2.3515868749824875),\n",
       " (10, 26, 0.19612067604454306),\n",
       " (10, 27, 0.2874704546327709),\n",
       " (10, 28, -2.6029013032633936),\n",
       " (10, 29, 2.8125639766586414),\n",
       " (10, 38, -3.8556642717587617),\n",
       " (10, 39, 0.005065439281833676),\n",
       " (10, 40, -4.548811452318707),\n",
       " (11, 12, -3.8556642717587617),\n",
       " (11, 24, -2.757051983090652),\n",
       " (11, 25, -3.8556642717587617),\n",
       " (11, 26, 0.21336248247904896),\n",
       " (11, 27, 0.17857636639363353),\n",
       " (11, 28, -2.757051983090652),\n",
       " (11, 29, 2.8100194460236465),\n",
       " (11, 39, 0.03615602635186493),\n",
       " (12, 13, 3.0941921832420105),\n",
       " (13, 14, 2.4029607120802043),\n",
       " (13, 15, 2.3981645398167113),\n",
       " (13, 17, -4.548811452318707),\n",
       " (14, 16, 1.6895131727208006),\n",
       " (14, 17, 1.7297099718471376),\n",
       " (15, 16, 1.7088561355639316),\n",
       " (15, 17, 1.701163789940776),\n",
       " (16, 17, -4.548811452318707),\n",
       " (16, 18, 1.669788667373022),\n",
       " (16, 19, 1.7259505689232317),\n",
       " (17, 18, 1.681669995259775),\n",
       " (17, 19, 1.751974342344537),\n",
       " (18, 20, 2.368894157516598),\n",
       " (19, 20, 2.4321942884030228),\n",
       " (20, 21, 2.0318276849662418),\n",
       " (20, 22, 1.9449423875329792),\n",
       " (20, 23, 2.0079669038393355),\n",
       " (21, 22, -4.548811452318707),\n",
       " (21, 23, -4.548811452318707),\n",
       " (21, 24, -2.757051983090652),\n",
       " (21, 26, -1.1476140706565516),\n",
       " (21, 27, -0.8352393856143993),\n",
       " (21, 28, -3.1625170911988163),\n",
       " (21, 29, 1.8228003949131495),\n",
       " (21, 39, -0.5785195387665852),\n",
       " (22, 23, -4.548811452318707),\n",
       " (22, 26, -1.1476140706565516),\n",
       " (22, 27, -1.252974586314378),\n",
       " (22, 28, -3.8556642717587617),\n",
       " (22, 29, 1.7862427991793517),\n",
       " (22, 38, -3.1625170911988163),\n",
       " (22, 39, -1.0224509277025458),\n",
       " (23, 24, -3.8556642717587617),\n",
       " (23, 26, -1.1148242478335608),\n",
       " (23, 27, -0.9112252925923213),\n",
       " (23, 28, -3.8556642717587617),\n",
       " (23, 29, 1.8346951825652986),\n",
       " (23, 38, -3.4501991636505975),\n",
       " (23, 39, -0.9112252925923213),\n",
       " (24, 25, -4.548811452318707),\n",
       " (24, 26, 2.35894382666343),\n",
       " (24, 27, 1.3700824019544395),\n",
       " (24, 28, -1.2166069421435033),\n",
       " (24, 29, 0.2633729030537104),\n",
       " (24, 30, -4.548811452318707),\n",
       " (25, 26, 1.4722118970308193),\n",
       " (25, 27, 0.5810872626043664),\n",
       " (25, 28, -1.840761251216497),\n",
       " (25, 29, -0.7421489625483874),\n",
       " (25, 38, -4.548811452318707),\n",
       " (25, 39, -2.6029013032633936),\n",
       " (26, 27, -3.8556642717587617),\n",
       " (26, 29, 2.945062434464852),\n",
       " (26, 30, -2.2462263593246616),\n",
       " (26, 39, -0.6986638506086484),\n",
       " (27, 29, 2.3708723975287036),\n",
       " (27, 30, -3.8556642717587617),\n",
       " (27, 39, -2.0639048025307067),\n",
       " (28, 29, -0.4056767259271744),\n",
       " (28, 30, -4.548811452318707),\n",
       " (29, 30, 4.605170185988092),\n",
       " (29, 33, -1.9838620948571704),\n",
       " (30, 31, 1.2163796504661375),\n",
       " (30, 32, 0.5869869847315546),\n",
       " (30, 33, 4.553609577437982),\n",
       " (31, 32, -2.4693699106388713),\n",
       " (31, 33, 1.190981459860527),\n",
       " (32, 33, 0.3339904702676638),\n",
       " (32, 34, -1.840761251216497),\n",
       " (32, 35, -2.3515868749824875),\n",
       " (32, 36, -1.4577689989603912),\n",
       " (33, 34, 4.6018850667299604),\n",
       " (33, 35, -2.9393735398846066),\n",
       " (33, 36, -2.6029013032633936),\n",
       " (34, 35, 3.8925800256812484),\n",
       " (34, 36, 3.927768056212233),\n",
       " (35, 37, 3.894950461011647),\n",
       " (35, 99, -3.4501991636505975),\n",
       " (36, 37, 3.933168983341786),\n",
       " (36, 99, -3.4501991636505975),\n",
       " (37, 38, 0.8218265758089556),\n",
       " (37, 99, 4.579342248669528),\n",
       " (37, 100, -0.6986638506086484),\n",
       " (38, 99, 0.8761385651626956),\n",
       " (38, 100, -3.1625170911988163),\n",
       " (39, 40, 1.6677946487661577),\n",
       " (40, 41, 1.669788667373022),\n",
       " (41, 43, 1.0533073685609937),\n",
       " (41, 44, 0.8936062582030865),\n",
       " (43, 44, -2.4693699106388713),\n",
       " (43, 45, 1.0233425798590574),\n",
       " (44, 45, 0.9276520996128035),\n",
       " (45, 47, 1.6677946487661577),\n",
       " (45, 48, -4.548811452318707),\n",
       " (47, 48, 1.6677946487661577),\n",
       " (48, 49, 0.9845780364088131),\n",
       " (48, 50, 0.9686414441460006),\n",
       " (49, 51, 0.9845780364088131),\n",
       " (50, 51, 0.964617293846275),\n",
       " (50, 99, -4.548811452318707),\n",
       " (51, 99, 1.6637946434328115),\n",
       " (51, 100, -3.8556642717587617)]"
      ]
     },
     "execution_count": 43,
     "metadata": {},
     "output_type": "execute_result"
    }
   ],
   "source": [
    "#  Trying out networkx node graph\n",
    "\n",
    "nodesEdgeList"
   ]
  },
  {
   "cell_type": "code",
   "execution_count": 45,
   "metadata": {},
   "outputs": [],
   "source": [
    "froms = [tup[0] for tup in nodesEdgeList]\n",
    "tos = [tup[1] for tup in nodesEdgeList]\n",
    "\n",
    "df = pd.DataFrame({ 'from':froms, 'to':tos})"
   ]
  },
  {
   "cell_type": "code",
   "execution_count": 56,
   "metadata": {},
   "outputs": [
    {
     "data": {
      "image/png": "[encoded data removed]",
      "text/plain": [
       "<Figure size 432x288 with 1 Axes>"
      ]
     },
     "metadata": {},
     "output_type": "display_data"
    }
   ],
   "source": [
    "# Build your graph\n",
    "G=nx.from_pandas_edgelist(df, 'from', 'to', create_using=nx.DiGraph())\n",
    " \n",
    "# Fruchterman Reingold\n",
    "nx.draw(G, with_labels=True, node_size=150, node_color=\"skyblue\", pos=nx.fruchterman_reingold_layout(G))"
   ]
  },
  {
   "cell_type": "code",
   "execution_count": null,
   "metadata": {},
   "outputs": [],
   "source": []
  }
 ],
 "metadata": {
  "kernelspec": {
   "display_name": "TensorFlow-GPU",
   "language": "python",
   "name": "tf-gpu"
  },
  "language_info": {
   "codemirror_mode": {
    "name": "ipython",
    "version": 3
   },
   "file_extension": ".py",
   "mimetype": "text/x-python",
   "name": "python",
   "nbconvert_exporter": "python",
   "pygments_lexer": "ipython3",
   "version": "3.6.8"
  }
 },
 "nbformat": 4,
 "nbformat_minor": 2
}
