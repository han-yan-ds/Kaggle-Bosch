{
 "cells": [
  {
   "cell_type": "markdown",
   "metadata": {},
   "source": [
    "# This project examines patterns in manufacturing defects\n",
    "\n",
    "Data is provided by Bosch"
   ]
  },
  {
   "cell_type": "markdown",
   "metadata": {},
   "source": [
    "## Import and examine the data"
   ]
  },
  {
   "cell_type": "code",
   "execution_count": 1,
   "metadata": {},
   "outputs": [],
   "source": [
    "import numpy as np\n",
    "import pandas as pd\n",
    "import matplotlib.pyplot as plt\n",
    "import seaborn as sns\n",
    "import time\n",
    "\n",
    "tic = time.process_time()"
   ]
  },
  {
   "cell_type": "markdown",
   "metadata": {},
   "source": [
    "training set has 1023747 records\n",
    "\n",
    "test set has 1183747 records"
   ]
  },
  {
   "cell_type": "code",
   "execution_count": 2,
   "metadata": {},
   "outputs": [],
   "source": [
    "folder = 'Bosch-Production-Line-Performance/'\n",
    "batch_size = 20000\n",
    "chunksize = 20000\n",
    "train_num_records = 1023748\n",
    "skiprows = np.random.randint(1, train_num_records+1, size=train_num_records-batch_size)"
   ]
  },
  {
   "cell_type": "markdown",
   "metadata": {},
   "source": [
    "# Let's make this dataset somewhat balanced:"
   ]
  },
  {
   "cell_type": "markdown",
   "metadata": {},
   "source": [
    "### First, let's get the FAIL rows:\n",
    "\n",
    "Because there's so few, I'll have to scour the entire dataset and get all of them for there to be enough of them"
   ]
  },
  {
   "cell_type": "code",
   "execution_count": 3,
   "metadata": {},
   "outputs": [
    {
     "name": "stdout",
     "output_type": "stream",
     "text": [
      "(6879, 970)\n",
      "(6879, 2141)\n",
      "(6879, 1157)\n",
      "CPU times: user 13min 14s, sys: 44.3 s, total: 13min 58s\n",
      "Wall time: 14min 1s\n"
     ]
    }
   ],
   "source": [
    "%%time\n",
    "\n",
    "train_numeric_fail = pd.read_csv(folder+'train_numeric.csv', nrows=1) #initialize\n",
    "train_categorical_fail = pd.read_csv(folder+'train_categorical.csv', nrows=1) #initialize\n",
    "train_date_fail = pd.read_csv(folder+'train_date.csv', nrows=1) #initialize\n",
    "\n",
    "\n",
    "for chunk in pd.read_csv(folder+'train_numeric.csv', chunksize=chunksize):\n",
    "    chunk.drop(chunk[chunk['Response']==0].index, inplace=True)\n",
    "    train_numeric_fail = train_numeric_fail.append(chunk)\n",
    "\n",
    "train_numeric_fail.drop(train_numeric_fail[train_numeric_fail['Response']==0].index, inplace=True) #remove dummy row from initialize\n",
    "print(train_numeric_fail.shape)\n",
    "\n",
    "\n",
    "for chunk in pd.read_csv(folder+'train_categorical.csv', chunksize=chunksize, low_memory=False):\n",
    "    train_categorical_fail = train_categorical_fail.append(chunk[chunk['Id'].isin(train_numeric_fail['Id'])])\n",
    "\n",
    "\n",
    "train_categorical_fail = train_categorical_fail[train_categorical_fail['Id'].isin(train_numeric_fail['Id'])] #remove dummy row from initialize\n",
    "print(train_categorical_fail.shape)\n",
    "   \n",
    "\n",
    "for chunk in pd.read_csv(folder+'train_date.csv', chunksize=chunksize, low_memory=False):\n",
    "    train_date_fail = train_date_fail.append(chunk[chunk['Id'].isin(train_numeric_fail['Id'])])\n",
    "    \n",
    "train_date_fail = train_date_fail[train_date_fail['Id'].isin(train_numeric_fail['Id'])] #remove dummy row from initialize\n",
    "print(train_date_fail.shape)"
   ]
  },
  {
   "cell_type": "markdown",
   "metadata": {},
   "source": [
    "### Second, let's get the PASS rows:\n",
    "\n",
    "This is much easier, I'll just grab some random rows and remove the fails"
   ]
  },
  {
   "cell_type": "code",
   "execution_count": 4,
   "metadata": {},
   "outputs": [
    {
     "name": "stdout",
     "output_type": "stream",
     "text": [
      "(19890, 970)\n",
      "(19890, 2141)\n",
      "(19890, 1157)\n",
      "CPU times: user 10.7 s, sys: 843 ms, total: 11.5 s\n",
      "Wall time: 11.6 s\n"
     ]
    }
   ],
   "source": [
    "%%time\n",
    "\n",
    "train_categorical_pass = pd.read_csv(folder+'train_categorical.csv', nrows=batch_size, skiprows=skiprows, low_memory=False)\n",
    "train_numeric_pass = pd.read_csv(folder+'train_numeric.csv', nrows=batch_size, skiprows=skiprows)\n",
    "train_date_pass = pd.read_csv(folder+'train_date.csv', nrows=batch_size, skiprows=skiprows)\n",
    "\n",
    "\n",
    "train_numeric_pass.drop(train_numeric_pass[train_numeric_pass['Response']==1].index, inplace=True)\n",
    "train_categorical_pass = train_categorical_pass[train_categorical_pass['Id'].isin(train_numeric_pass['Id'])]\n",
    "train_date_pass = train_date_pass[train_date_pass['Id'].isin(train_numeric_pass['Id'])]\n",
    "\n",
    "\n",
    "print(train_numeric_pass.shape)\n",
    "print(train_categorical_pass.shape)\n",
    "print(train_date_pass.shape)"
   ]
  },
  {
   "cell_type": "markdown",
   "metadata": {},
   "source": [
    "### Third, let's merge the PASS and FAIL into a simple SAMPLE dataframe\n",
    "\n",
    "Recall that we did Pass and Fail separately because Fails were so hard to find"
   ]
  },
  {
   "cell_type": "code",
   "execution_count": 5,
   "metadata": {},
   "outputs": [
    {
     "name": "stdout",
     "output_type": "stream",
     "text": [
      "(26769, 2141)\n",
      "(26769, 970)\n",
      "(26769, 1157)\n"
     ]
    }
   ],
   "source": [
    "train_categorical_sample = pd.concat([train_categorical_pass, train_categorical_fail])\n",
    "train_numeric_sample = pd.concat([train_numeric_pass, train_numeric_fail])\n",
    "train_date_sample = pd.concat([train_date_pass, train_date_fail])\n",
    "\n",
    "print(train_categorical_sample.shape)\n",
    "print(train_numeric_sample.shape)\n",
    "print(train_date_sample.shape)"
   ]
  },
  {
   "cell_type": "markdown",
   "metadata": {},
   "source": [
    "### Fourth, let's create the FEATURE dataframe by merging NUMERIC and CATEGORICAL\n",
    "\n",
    "Could be useful to simplify"
   ]
  },
  {
   "cell_type": "code",
   "execution_count": 6,
   "metadata": {},
   "outputs": [
    {
     "name": "stdout",
     "output_type": "stream",
     "text": [
      "(26769, 3110)\n"
     ]
    }
   ],
   "source": [
    "# merge categorical and numeric together for total train_features_sample DataFrame\n",
    "train_feature_sample = pd.merge(train_categorical_sample, train_numeric_sample,on='Id')\n",
    "\n",
    "print(train_feature_sample.shape)"
   ]
  },
  {
   "cell_type": "markdown",
   "metadata": {},
   "source": [
    "### And finally, let's delete the PASS and FAIL dataframes, since they're no more use to us\n",
    "\n",
    "Only useful for balancing the dataset, which we now have with the SAMPLE dataframes"
   ]
  },
  {
   "cell_type": "code",
   "execution_count": 7,
   "metadata": {},
   "outputs": [],
   "source": [
    "del train_categorical_fail, train_numeric_fail, train_date_fail, train_categorical_pass, train_numeric_pass, train_date_pass\n",
    "\n",
    "del chunk"
   ]
  },
  {
   "cell_type": "markdown",
   "metadata": {},
   "source": [
    "## Let's now start to get combinations of stations\n",
    "\n",
    "Because this will be massive if we just get every single combination, let's just get the adjacent combinations (connected by \"connections\")"
   ]
  },
  {
   "cell_type": "code",
   "execution_count": 8,
   "metadata": {},
   "outputs": [],
   "source": [
    "def extractLSF(string, isDate=False):\n",
    "    '''\n",
    "    Given a string in the Bosch Line/Station/Feature format (eg: L0_S0_F26), extract the Line number, Station number, and Feature number\n",
    "    \n",
    "    Input: String in Lx_Sy_Fz format\n",
    "    \n",
    "    Output:  Tuple of (x, y, z)\n",
    "    \n",
    "    Sidenote:  isDate will extract based on Lx_Sy_Dd format instead, returns tuple of (x, y, d)\n",
    "    '''\n",
    "    # first assert the format is correct:\n",
    "    splitStr = string.split('_')\n",
    "    if isDate:\n",
    "        prefixList = ['L', 'S', 'D']\n",
    "    else:\n",
    "        prefixList = ['L', 'S', 'F']\n",
    "        \n",
    "    assert len(splitStr) == 3, 'Not 3 substrings split by \"_\"s!'\n",
    "    for i in range(0, len(splitStr)):\n",
    "        assert splitStr[i][1:].isnumeric(), 'Not numeric following the single-letter prefix!'\n",
    "        assert splitStr[i][:1] == prefixList[i], 'Not the proper single-letter prefixes!  Did you use a Date format and forget to set isDate=True?'\n",
    "    \n",
    "    #now extract numbers:\n",
    "    tempList = []\n",
    "    \n",
    "    for substr in splitStr:\n",
    "        number = float(substr[1:])\n",
    "        if number%1 == 0.0:\n",
    "            tempList.append(int(number))\n",
    "        else:\n",
    "            tempList.append(number)\n",
    "        \n",
    "    return tuple(tempList)\n",
    "\n",
    "# ----------------------------------------------------------------------------------------------------\n",
    "\n",
    "def getListLSF(inputSeries, isDate=False):\n",
    "    '''\n",
    "    Given a series with fields of Bosch style Lx_Sy_Fz: Get the lines, stations, and features (or dates)\n",
    "    Input:  series (row) in a Bosch-style QC matrix\n",
    "    Output:  pandas dataframe of lines, stations, and features/dates\n",
    "    '''\n",
    "    \n",
    "    for field in inputSeries.index:\n",
    "        try:\n",
    "            myL, myS, myF = extractLSF(field, isDate=isDate)\n",
    "        except:\n",
    "            continue\n",
    "        listL.append(myL)\n",
    "        listS.append(myS)\n",
    "        listF.append(myF)\n",
    "    \n",
    "    return {'Lines': listL, 'Stations': listS, 'Features': listF}\n",
    "\n",
    "# ----------------------------------------------------------------------------------------------------\n",
    "\n",
    "def getListLSD(inputSeries):\n",
    "    return getListLSF(inputSeries, isDate=True)\n",
    "\n",
    "\n",
    "# All L/S/Fs------------------------------------------------------------------------------------------\n",
    "\n",
    "def get_lsf(lsf_df, isDate=False):\n",
    "    '''From a Bosch DF, extract all the Line/Station/Feature combinations in the fields\n",
    "    Outputs a Dataframe of columns Line, Station, Feature'''\n",
    "    if isDate:\n",
    "        lsf = pd.DataFrame(columns=['Line', 'Station', 'Date'])\n",
    "    else:\n",
    "        lsf = pd.DataFrame(columns=['Line', 'Station', 'Feature'])\n",
    "    \n",
    "    for field in lsf_df.columns:\n",
    "        try:\n",
    "            lsf = lsf.append(pd.DataFrame([list(extractLSF(field, isDate))], columns=lsf.columns))\n",
    "        except:\n",
    "            continue\n",
    "    \n",
    "    return lsf\n",
    "\n",
    "# ----------------------------------------------------\n",
    "\n",
    "def dataframeSpecificColumns(data, columnname, isDate=False):\n",
    "    '''Returns a dataframe of Bosch format, but reformat the columns to show ONLY feature, or ONLY station, etc\n",
    "    Input: data (dataframe), columnname\n",
    "    Output: dataframe with extracted feature/station/whatever'''\n",
    "        \n",
    "    cols = ['Id']\n",
    "    cols.extend(list(get_lsf(data, isDate)[columnname]))\n",
    "\n",
    "    if 'Response' in data.columns:\n",
    "        cols.append('Response')\n",
    "        \n",
    "    df = data.copy()\n",
    "    df.columns = cols\n",
    "    \n",
    "    return df"
   ]
  },
  {
   "cell_type": "code",
   "execution_count": 9,
   "metadata": {},
   "outputs": [],
   "source": [
    "# Returns a list of adjacent combinations\n",
    "# I'll eventually use wrapper functions so I can modify the combosize and STILL use .apply()\n",
    "\n",
    "def listToString(listOfInts, separator='/'):\n",
    "    string = ''\n",
    "    for number in listOfInts:\n",
    "        string = string + str(number) + separator\n",
    "    return string[:-1]\n",
    "\n",
    "\n",
    "def uniqueList(inputlist):\n",
    "    output = []\n",
    "    for x in inputlist:\n",
    "        if x not in output:\n",
    "            output.append(x)\n",
    "    return output\n",
    "\n",
    "\n",
    "def getConnections(inputSeries, combosize=2, unique=False, stringOutput=False):\n",
    "    '''\n",
    "    Get a list of tuples for all connections, starting from -1 (Start), and ending at either 99 (Pass), or 100 (Fail)\n",
    "    \n",
    "    Input:  A Series with a lot of NaNs, and indexes are Station Names (integers)\n",
    "    \n",
    "    Output: A List of Tuples with all connections of Pairs of Adjacent Stations without NaNs\n",
    "    '''\n",
    "    try:\n",
    "        inputSeries.drop('Response', inplace=True)\n",
    "    except:\n",
    "        pass\n",
    "    droppedNa = list(inputSeries.dropna().drop('Id').index)\n",
    "\n",
    "    listOfConnections = []\n",
    "    for i in range(0, len(droppedNa)-(combosize-1)):\n",
    "        templist = [droppedNa[x] for x in range(i, i+combosize)]\n",
    "        listOfConnections.append(templist)\n",
    "\n",
    "    if unique:\n",
    "        output = uniqueList(listOfConnections)\n",
    "    else:\n",
    "        output = listOfConnections\n",
    "        \n",
    "    if stringOutput:\n",
    "        return [listToString(conn) for conn in output]\n",
    "    else:\n",
    "        return output"
   ]
  },
  {
   "cell_type": "markdown",
   "metadata": {},
   "source": [
    "### Now let's create some dataframes...\n",
    "\n",
    "With Stations as columns, and with Features as columns"
   ]
  },
  {
   "cell_type": "code",
   "execution_count": 10,
   "metadata": {},
   "outputs": [],
   "source": [
    "train_date_sample_datecols = dataframeSpecificColumns(train_date_sample, 'Date', isDate=True)\n",
    "\n",
    "#----------------\n",
    "\n",
    "train_feature_sample_stationcols = dataframeSpecificColumns(train_feature_sample, 'Station')\n",
    "\n",
    "#-----------------\n",
    "\n",
    "train_feature_sample_featurecols = dataframeSpecificColumns(train_feature_sample, 'Feature')"
   ]
  },
  {
   "cell_type": "code",
   "execution_count": null,
   "metadata": {},
   "outputs": [],
   "source": []
  },
  {
   "cell_type": "markdown",
   "metadata": {},
   "source": [
    "# --------------------------------Testing Combos Codes-----------------------------------"
   ]
  },
  {
   "cell_type": "code",
   "execution_count": 11,
   "metadata": {},
   "outputs": [],
   "source": [
    "def getListFrequency(item, listOfItems):\n",
    "    count = 0\n",
    "    for i in listOfItems:\n",
    "        if i == item:\n",
    "            count += 1\n",
    "    return count\n",
    "\n",
    "def getConnectionFrequency(inputList, allConnections):\n",
    "    \n",
    "    frequencies = np.zeros(len(allConnections))\n",
    "\n",
    "    for i in range(0, len(allConnections)):\n",
    "        item = allConnections[i]\n",
    "        frequencies[i] = getListFrequency(item, inputList)#number of allConnections[i] in inputList\n",
    "    \n",
    "    return frequencies.reshape(1,len(allConnections))"
   ]
  },
  {
   "cell_type": "code",
   "execution_count": 53,
   "metadata": {},
   "outputs": [
    {
     "name": "stdout",
     "output_type": "stream",
     "text": [
      "CPU times: user 1min 10s, sys: 1.53 s, total: 1min 11s\n",
      "Wall time: 1min 17s\n"
     ]
    }
   ],
   "source": [
    "%%time\n",
    "# This is when I can enter the Connection Combo Size that I want to test\n",
    "\n",
    "comboSize = 1\n",
    "wantUniqueConnections = True\n",
    "#-------------------------------------\n",
    "\n",
    "def getConnections_Custom_Uniques(inputSeries):\n",
    "    return getConnections(inputSeries, combosize=comboSize, unique=wantUniqueConnections, stringOutput=True)\n",
    "\n",
    "seriesConnections = train_feature_sample_stationcols.apply(getConnections_Custom_Uniques, axis=1)"
   ]
  },
  {
   "cell_type": "code",
   "execution_count": 54,
   "metadata": {
    "scrolled": true
   },
   "outputs": [
    {
     "name": "stdout",
     "output_type": "stream",
     "text": [
      "CPU times: user 25.3 ms, sys: 34 µs, total: 25.3 ms\n",
      "Wall time: 25.5 ms\n"
     ]
    }
   ],
   "source": [
    "%%time\n",
    "#TESTING\n",
    "# Creating a SET of all connections for the columns for my Connections DF... then converting to a list\n",
    "\n",
    "allConnections = set(())\n",
    "\n",
    "for product in seriesConnections:\n",
    "    allConnections.update(product)\n",
    "\n",
    "allConnections = list(allConnections)"
   ]
  },
  {
   "cell_type": "code",
   "execution_count": 55,
   "metadata": {},
   "outputs": [
    {
     "name": "stdout",
     "output_type": "stream",
     "text": [
      "    15   37    6   45   24    8   23   11    2    0 ...     7   34    3   17  \\\n",
      "0  0.0  1.0  0.0  0.0  0.0  1.0  0.0  0.0  1.0  1.0 ...   1.0  1.0  0.0  0.0   \n",
      "1  0.0  1.0  0.0  0.0  0.0  1.0  0.0  0.0  0.0  1.0 ...   1.0  1.0  1.0  0.0   \n",
      "2  0.0  1.0  0.0  0.0  0.0  1.0  0.0  0.0  1.0  1.0 ...   1.0  1.0  0.0  0.0   \n",
      "3  0.0  1.0  0.0  0.0  0.0  0.0  0.0  0.0  0.0  0.0 ...   0.0  1.0  0.0  1.0   \n",
      "4  0.0  1.0  0.0  0.0  0.0  1.0  0.0  0.0  1.0  1.0 ...   1.0  1.0  0.0  0.0   \n",
      "\n",
      "    33   13   16   25   32   26  \n",
      "0  1.0  0.0  0.0  0.0  0.0  0.0  \n",
      "1  1.0  0.0  0.0  0.0  0.0  0.0  \n",
      "2  1.0  0.0  0.0  0.0  0.0  0.0  \n",
      "3  1.0  1.0  0.0  0.0  0.0  0.0  \n",
      "4  1.0  0.0  0.0  0.0  0.0  0.0  \n",
      "\n",
      "[5 rows x 50 columns]\n",
      "CPU times: user 6.14 s, sys: 23.8 ms, total: 6.17 s\n",
      "Wall time: 6.2 s\n"
     ]
    }
   ],
   "source": [
    "%%time\n",
    "connectionFrequency = pd.DataFrame(np.zeros((seriesConnections.size, len(allConnections))), columns=pd.Series(allConnections), index=seriesConnections.index)\n",
    "\n",
    "for row in seriesConnections.index:\n",
    "    connectionFrequency.loc[row] = getConnectionFrequency(seriesConnections[row], allConnections)\n",
    "\n",
    "results = train_feature_sample_stationcols['Response']\n",
    "\n",
    "print(connectionFrequency.head())"
   ]
  },
  {
   "cell_type": "markdown",
   "metadata": {},
   "source": [
    "# Dimensionality Reduction #1\n",
    "\n",
    "### Principle Component Analysis"
   ]
  },
  {
   "cell_type": "code",
   "execution_count": null,
   "metadata": {},
   "outputs": [],
   "source": [
    "from sklearn.preprocessing import StandardScaler"
   ]
  },
  {
   "cell_type": "code",
   "execution_count": null,
   "metadata": {},
   "outputs": [],
   "source": [
    "scaler = StandardScaler()\n",
    "scaledData = scaler.fit_transform(connectionFrequency)"
   ]
  },
  {
   "cell_type": "code",
   "execution_count": null,
   "metadata": {},
   "outputs": [],
   "source": [
    "from sklearn.decomposition import PCA"
   ]
  },
  {
   "cell_type": "code",
   "execution_count": null,
   "metadata": {},
   "outputs": [],
   "source": [
    "n_components = 2\n",
    "\n",
    "pca = PCA(n_components=n_components)\n",
    "pca.fit(scaledData)\n",
    "\n",
    "scaledData.shape"
   ]
  },
  {
   "cell_type": "code",
   "execution_count": null,
   "metadata": {},
   "outputs": [],
   "source": [
    "x_pca = pca.transform(scaledData)\n",
    "\n",
    "x_pca.shape #I just reduced MANY dimensions to just 2!"
   ]
  },
  {
   "cell_type": "code",
   "execution_count": null,
   "metadata": {},
   "outputs": [],
   "source": [
    "plt.figure(figsize=(8,6))\n",
    "plt.scatter(x_pca[:,0],x_pca[:,1],c=results,cmap='cool', s=15, alpha=0.5)\n",
    "plt.xlabel('First Principal Component')\n",
    "plt.ylabel('Second Principal Component')"
   ]
  },
  {
   "cell_type": "markdown",
   "metadata": {},
   "source": [
    "# Dimensionality Reduction #2\n",
    "\n",
    "### Independent Component Analysis"
   ]
  },
  {
   "cell_type": "code",
   "execution_count": 44,
   "metadata": {},
   "outputs": [],
   "source": [
    "from sklearn.decomposition import FastICA"
   ]
  },
  {
   "cell_type": "code",
   "execution_count": 45,
   "metadata": {},
   "outputs": [
    {
     "data": {
      "text/plain": [
       "(26769, 1963)"
      ]
     },
     "execution_count": 45,
     "metadata": {},
     "output_type": "execute_result"
    }
   ],
   "source": [
    "n_components = 2\n",
    "\n",
    "ica = FastICA(n_components=n_components)\n",
    "ica.fit(scaledData)\n",
    "\n",
    "scaledData.shape"
   ]
  },
  {
   "cell_type": "code",
   "execution_count": 46,
   "metadata": {},
   "outputs": [
    {
     "data": {
      "text/plain": [
       "(26769, 2)"
      ]
     },
     "execution_count": 46,
     "metadata": {},
     "output_type": "execute_result"
    }
   ],
   "source": [
    "x_ica = ica.transform(scaledData)\n",
    "\n",
    "x_ica.shape"
   ]
  },
  {
   "cell_type": "code",
   "execution_count": 47,
   "metadata": {},
   "outputs": [
    {
     "data": {
      "text/plain": [
       "Text(0, 0.5, 'Second Independent Component')"
      ]
     },
     "execution_count": 47,
     "metadata": {},
     "output_type": "execute_result"
    },
    {
     "data": {
      "image/png": "[encoded data removed]",
      "text/plain": [
       "<Figure size 576x432 with 1 Axes>"
      ]
     },
     "metadata": {
      "needs_background": "light"
     },
     "output_type": "display_data"
    }
   ],
   "source": [
    "plt.figure(figsize=(8,6))\n",
    "plt.scatter(x_ica[:,0],x_ica[:,1],c=results,cmap='cool', s=15, alpha=0.5)\n",
    "plt.xlabel('First Independent Component')\n",
    "plt.ylabel('Second Independent Component')"
   ]
  },
  {
   "cell_type": "markdown",
   "metadata": {},
   "source": [
    "# Dimensionality Reduction #3\n",
    "\n",
    "### t-Distributed Stochastic Neighbor Embedding (t-SNE)"
   ]
  },
  {
   "cell_type": "markdown",
   "metadata": {},
   "source": [
    "https://www.analyticsvidhya.com/blog/2018/08/dimensionality-reduction-techniques-python/"
   ]
  },
  {
   "cell_type": "code",
   "execution_count": 25,
   "metadata": {},
   "outputs": [],
   "source": [
    "from sklearn.manifold import TSNE"
   ]
  },
  {
   "cell_type": "code",
   "execution_count": 27,
   "metadata": {},
   "outputs": [],
   "source": [
    "n_iter = 300\n",
    "\n",
    "tsne = TSNE(n_components=2, n_iter=n_iter).fit(scaledData)"
   ]
  },
  {
   "cell_type": "code",
   "execution_count": 30,
   "metadata": {},
   "outputs": [],
   "source": [
    "tsne = TSNE(n_components=2, n_iter=n_iter).fit_transform(scaledData)"
   ]
  },
  {
   "cell_type": "code",
   "execution_count": 34,
   "metadata": {},
   "outputs": [
    {
     "data": {
      "text/plain": [
       "<matplotlib.collections.PathCollection at 0x7f4b27d600f0>"
      ]
     },
     "execution_count": 34,
     "metadata": {},
     "output_type": "execute_result"
    },
    {
     "data": {
      "image/png": "[encoded data removed]",
      "text/plain": [
       "<Figure size 864x576 with 1 Axes>"
      ]
     },
     "metadata": {
      "needs_background": "light"
     },
     "output_type": "display_data"
    }
   ],
   "source": [
    "plt.figure(figsize=(12,8))\n",
    "plt.title('t-SNE components')\n",
    "plt.scatter(tsne[:,0], tsne[:,1])\n",
    "plt.scatter(tsne[:,1], tsne[:,0])"
   ]
  },
  {
   "cell_type": "markdown",
   "metadata": {},
   "source": [
    "# Dimensionality Reduction #4\n",
    "\n",
    "### Uniform Manifold Approximation and Projection (UMAP)"
   ]
  },
  {
   "cell_type": "code",
   "execution_count": null,
   "metadata": {},
   "outputs": [],
   "source": []
  },
  {
   "cell_type": "code",
   "execution_count": null,
   "metadata": {},
   "outputs": [],
   "source": []
  },
  {
   "cell_type": "code",
   "execution_count": null,
   "metadata": {},
   "outputs": [],
   "source": []
  },
  {
   "cell_type": "code",
   "execution_count": null,
   "metadata": {},
   "outputs": [],
   "source": []
  },
  {
   "cell_type": "code",
   "execution_count": null,
   "metadata": {},
   "outputs": [],
   "source": []
  },
  {
   "cell_type": "code",
   "execution_count": null,
   "metadata": {},
   "outputs": [],
   "source": []
  },
  {
   "cell_type": "markdown",
   "metadata": {},
   "source": [
    "# ------------------------------Random Forest --------------------------------------------"
   ]
  },
  {
   "cell_type": "code",
   "execution_count": 34,
   "metadata": {},
   "outputs": [],
   "source": [
    "from sklearn.model_selection import train_test_split\n",
    "\n",
    "(X_train, X_test, y_train, y_test) = train_test_split(x_pca, results, test_size=0.20)"
   ]
  },
  {
   "cell_type": "code",
   "execution_count": 43,
   "metadata": {},
   "outputs": [],
   "source": [
    "from sklearn.ensemble import RandomForestClassifier"
   ]
  },
  {
   "cell_type": "code",
   "execution_count": 47,
   "metadata": {},
   "outputs": [
    {
     "data": {
      "text/plain": [
       "RandomForestClassifier(bootstrap=True, class_weight=None, criterion='gini',\n",
       "            max_depth=None, max_features='auto', max_leaf_nodes=None,\n",
       "            min_impurity_decrease=0.0, min_impurity_split=None,\n",
       "            min_samples_leaf=1, min_samples_split=2,\n",
       "            min_weight_fraction_leaf=0.0, n_estimators=60, n_jobs=None,\n",
       "            oob_score=False, random_state=None, verbose=0,\n",
       "            warm_start=False)"
      ]
     },
     "execution_count": 47,
     "metadata": {},
     "output_type": "execute_result"
    }
   ],
   "source": [
    "tree = RandomForestClassifier(n_estimators=60)\n",
    "tree.fit(X_train, y_train)"
   ]
  },
  {
   "cell_type": "code",
   "execution_count": 49,
   "metadata": {},
   "outputs": [],
   "source": [
    "importances = tree.feature_importances_\n",
    "\n",
    "indices = np.argsort(importances[-9:]) #top 10 features"
   ]
  },
  {
   "cell_type": "code",
   "execution_count": 51,
   "metadata": {},
   "outputs": [
    {
     "data": {
      "text/plain": [
       "Text(0.5, 0, 'Relative Importance')"
      ]
     },
     "execution_count": 51,
     "metadata": {},
     "output_type": "execute_result"
    },
    {
     "data": {
      "image/png": "[encoded data removed]",
      "text/plain": [
       "<Figure size 432x288 with 1 Axes>"
      ]
     },
     "metadata": {
      "needs_background": "light"
     },
     "output_type": "display_data"
    }
   ],
   "source": [
    "features = connectionFrequency.columns\n",
    "\n",
    "plt.title('Feature Importances')\n",
    "\n",
    "plt.barh(range(len(indices)), importances[indices], color='b', align='center')\n",
    "plt.yticks(range(len(indices)), [features[i] for i in indices])\n",
    "plt.xlabel('Relative Importance')"
   ]
  },
  {
   "cell_type": "code",
   "execution_count": null,
   "metadata": {},
   "outputs": [],
   "source": []
  },
  {
   "cell_type": "code",
   "execution_count": 52,
   "metadata": {},
   "outputs": [],
   "source": [
    "y_predict_tree = tree.predict(X_test)"
   ]
  },
  {
   "cell_type": "code",
   "execution_count": 53,
   "metadata": {},
   "outputs": [],
   "source": [
    "from sklearn.metrics import confusion_matrix, classification_report"
   ]
  },
  {
   "cell_type": "code",
   "execution_count": 54,
   "metadata": {},
   "outputs": [
    {
     "name": "stdout",
     "output_type": "stream",
     "text": [
      "[[3879  125]\n",
      " [1114  238]]\n",
      "              precision    recall  f1-score   support\n",
      "\n",
      "           0       0.78      0.97      0.86      4004\n",
      "           1       0.66      0.18      0.28      1352\n",
      "\n",
      "   micro avg       0.77      0.77      0.77      5356\n",
      "   macro avg       0.72      0.57      0.57      5356\n",
      "weighted avg       0.75      0.77      0.71      5356\n",
      "\n"
     ]
    }
   ],
   "source": [
    "print(confusion_matrix(y_test, y_predict_tree))\n",
    "print(classification_report(y_test, y_predict_tree))"
   ]
  },
  {
   "cell_type": "markdown",
   "metadata": {},
   "source": [
    "# ----------------------------------Support Vector Machines-----------------------------"
   ]
  },
  {
   "cell_type": "code",
   "execution_count": 55,
   "metadata": {},
   "outputs": [],
   "source": [
    "from sklearn.svm import SVC"
   ]
  },
  {
   "cell_type": "code",
   "execution_count": 56,
   "metadata": {},
   "outputs": [
    {
     "name": "stderr",
     "output_type": "stream",
     "text": [
      "/home/han/.conda/envs/tf-gpu/lib/python3.6/site-packages/sklearn/svm/base.py:196: FutureWarning: The default value of gamma will change from 'auto' to 'scale' in version 0.22 to account better for unscaled features. Set gamma explicitly to 'auto' or 'scale' to avoid this warning.\n",
      "  \"avoid this warning.\", FutureWarning)\n"
     ]
    },
    {
     "data": {
      "text/plain": [
       "SVC(C=1.0, cache_size=200, class_weight=None, coef0=0.0,\n",
       "  decision_function_shape='ovr', degree=3, gamma='auto_deprecated',\n",
       "  kernel='rbf', max_iter=-1, probability=False, random_state=None,\n",
       "  shrinking=True, tol=0.001, verbose=False)"
      ]
     },
     "execution_count": 56,
     "metadata": {},
     "output_type": "execute_result"
    }
   ],
   "source": [
    "svm = SVC()\n",
    "svm.fit(X_train, y_train)"
   ]
  },
  {
   "cell_type": "code",
   "execution_count": 57,
   "metadata": {},
   "outputs": [],
   "source": [
    "y_predict_svm = svm.predict(X_test)"
   ]
  },
  {
   "cell_type": "code",
   "execution_count": 58,
   "metadata": {},
   "outputs": [
    {
     "name": "stdout",
     "output_type": "stream",
     "text": [
      "[[3975   29]\n",
      " [1156  196]]\n",
      "              precision    recall  f1-score   support\n",
      "\n",
      "           0       0.77      0.99      0.87      4004\n",
      "           1       0.87      0.14      0.25      1352\n",
      "\n",
      "   micro avg       0.78      0.78      0.78      5356\n",
      "   macro avg       0.82      0.57      0.56      5356\n",
      "weighted avg       0.80      0.78      0.71      5356\n",
      "\n"
     ]
    }
   ],
   "source": [
    "print(confusion_matrix(y_test, y_predict_svm))\n",
    "print(classification_report(y_test, y_predict_svm))"
   ]
  },
  {
   "cell_type": "code",
   "execution_count": null,
   "metadata": {},
   "outputs": [],
   "source": []
  },
  {
   "cell_type": "code",
   "execution_count": null,
   "metadata": {},
   "outputs": [],
   "source": []
  }
 ],
 "metadata": {
  "kernelspec": {
   "display_name": "Python 3",
   "language": "python",
   "name": "python3"
  },
  "language_info": {
   "codemirror_mode": {
    "name": "ipython",
    "version": 3
   },
   "file_extension": ".py",
   "mimetype": "text/x-python",
   "name": "python",
   "nbconvert_exporter": "python",
   "pygments_lexer": "ipython3",
   "version": "3.6.7"
  }
 },
 "nbformat": 4,
 "nbformat_minor": 2
}
